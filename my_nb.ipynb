{
 "cells": [
  {
   "cell_type": "code",
   "execution_count": 42,
   "id": "1cc8df20-3ae7-44ea-98c7-81ff08bf3fb6",
   "metadata": {},
   "outputs": [],
   "source": [
    "import numpy as np\n",
    "\n",
    "\n",
    "def get_bernoulli_confidence_interval(values: np.array):\n",
    "    \"\"\"Вычисляет доверительный интервал для параметра распределения Бернулли.\n",
    "\n",
    "    :param values: массив элементов из нулей и единиц.\n",
    "    :return (left_bound, right_bound): границы доверительного интервала.\n",
    "    \"\"\"\n",
    "    z = 1.96\n",
    "    n = len(values)\n",
    "    p = np.mean(values)\n",
    "    K = np.sum(values)\n",
    "    return (max(K / n - z * np.sqrt((K / n * (1 - K / n)) / n), 0), \n",
    "            min(K / n + z * np.sqrt((K / n * (1 - K / n)) / n), 1))"
   ]
  },
  {
   "cell_type": "code",
   "execution_count": 40,
   "id": "1d3978f3-d355-43bc-b2bd-c547aa80f402",
   "metadata": {},
   "outputs": [],
   "source": [
    "values = np.array([0,0,0,1,0,0,0,0])"
   ]
  },
  {
   "cell_type": "code",
   "execution_count": 43,
   "id": "1cf40da7-8891-4b40-8da3-3f91cf12e0e8",
   "metadata": {},
   "outputs": [
    {
     "data": {
      "text/plain": [
       "(0, 0.3541765149399039)"
      ]
     },
     "execution_count": 43,
     "metadata": {},
     "output_type": "execute_result"
    }
   ],
   "source": [
    "get_bernoulli_confidence_interval(values)"
   ]
  },
  {
   "cell_type": "code",
   "execution_count": 1,
   "id": "9f01f865-aa34-421c-9697-8e7046fc84f7",
   "metadata": {},
   "outputs": [],
   "source": [
    "import numpy as np\n",
    "import pandas as pd\n",
    "from scipy.stats import ttest_ind\n",
    "\n",
    "\n",
    "def estimate_first_type_error(df_pilot_group, df_control_group, metric_name, alpha=0.05, n_iter=10000, seed=None):\n",
    "    \"\"\"Оцениваем ошибку первого рода.\n",
    "\n",
    "    Бутстрепим выборки из пилотной и контрольной групп тех же размеров, считаем долю случаев с значимыми отличиями.\n",
    "    \n",
    "    df_pilot_group - pd.DataFrame, датафрейм с данными пилотной группы\n",
    "    df_control_group - pd.DataFrame, датафрейм с данными контрольной группы\n",
    "    metric_name - str, названия столбца с метрикой\n",
    "    alpha - float, уровень значимости для статтеста\n",
    "    n_iter - int, кол-во итераций бутстрапа\n",
    "    seed - int or None, состояние генератора случайных чисел.\n",
    "\n",
    "    return - float, ошибка первого рода\n",
    "    \"\"\"\n",
    "    pilot_indices = np.random.randint(0, len(df_pilot_group), (n_iter, len(df_pilot_group)))\n",
    "    control_indices = np.random.randint(0, len(df_control_group), (n_iter, len(df_control_group)))\n",
    "    \n",
    "    pilot = df_pilot_group[metric_name].values[pilot_indices]\n",
    "    control = df_control_group[metric_name].values[control_indices]\n",
    "    \n",
    "    res = 0\n",
    "    #p_value = []\n",
    "    for i in range(n_iter):\n",
    "        res += int(ttest_ind(pilot[i], control[i]).pvalue < alpha)\n",
    "        #p_value.append(ttest_ind(pilot[i], control[i]).pvalue)\n",
    "        \n",
    "    return res / n_iter#, p_value"
   ]
  },
  {
   "cell_type": "code",
   "execution_count": 20,
   "id": "864b5d9d-dda3-402b-9d3b-5861aebf1f82",
   "metadata": {},
   "outputs": [
    {
     "data": {
      "text/plain": [
       "0.0229"
      ]
     },
     "execution_count": 20,
     "metadata": {},
     "output_type": "execute_result"
    }
   ],
   "source": [
    "df1 = pd.DataFrame({'metrica': [0.5, 0.45, 0.5],\n",
    "'feature1': [1, 2, 3],\n",
    "'feature2': [4, 5, 6]})\n",
    "\n",
    "\n",
    "# Создаем второй датафрейм\n",
    "df2 = pd.DataFrame({'metrica': [0.5, 0.5, 0.45],\n",
    "'feature1': [7, 8, 9],\n",
    "'feature2': [10, 11, 12]})\n",
    "\n",
    "\n",
    "estimate_first_type_error(df1,df2, 'metrica')"
   ]
  },
  {
   "cell_type": "code",
   "execution_count": 21,
   "id": "6dd7ede2-e1f9-4f6b-8ae8-2a69460962b8",
   "metadata": {},
   "outputs": [],
   "source": [
    "import numpy as np\n",
    "import pandas as pd\n",
    "from scipy.stats import ttest_ind\n",
    "\n",
    "\n",
    "def estimate_second_type_error(df_pilot_group, df_control_group, metric_name, effects, alpha=0.05, n_iter=10000, seed=None):\n",
    "    \"\"\"Оцениваем ошибки второго рода.\n",
    "\n",
    "    Бутстрепим выборки из пилотной и контрольной групп тех же размеров, добавляем эффект к пилотной группе,\n",
    "    считаем долю случаев без значимых отличий.\n",
    "    \n",
    "    df_pilot_group - pd.DataFrame, датафрейм с данными пилотной группы\n",
    "    df_control_group - pd.DataFrame, датафрейм с данными контрольной группы\n",
    "    metric_name - str, названия столбца с метрикой\n",
    "    effects - List[float], список размеров эффектов ([1.03] - увеличение на 3%).\n",
    "    alpha - float, уровень значимости для статтеста\n",
    "    n_iter - int, кол-во итераций бутстрапа\n",
    "    seed - int or None, состояние генератора случайных чисел\n",
    "\n",
    "    return - dict, {размер_эффекта: ошибка_второго_рода}\n",
    "    \"\"\"\n",
    "    np.random.seed(seed)\n",
    "    \n",
    "    pilot_indices = np.random.randint(0, len(df_pilot_group), (n_iter, len(df_pilot_group)))\n",
    "    control_indices = np.random.randint(0, len(df_control_group), (n_iter, len(df_control_group)))\n",
    "    \n",
    "    #pilot = df_pilot_group[metric_name].values[pilot_indices]\n",
    "    control = df_control_group[metric_name].values[control_indices]\n",
    "    \n",
    "    second_type_error = {}\n",
    "    for effect in effects:\n",
    "        res = 0\n",
    "        pilot_with_effect = (df_pilot_group[metric_name] * np.random.normal(effect, \n",
    "                                                                            0.005, \n",
    "                                                                            len(df_pilot_group)\n",
    "                                                                           )\n",
    "                            ).values[pilot_indices]\n",
    "        for i in range(n_iter):\n",
    "            res += int(ttest_ind(pilot_with_effect[i], control[i]).pvalue < alpha)\n",
    "            \n",
    "        second_type_error[effect] = 1 - res / n_iter\n",
    "        \n",
    "    return second_type_error"
   ]
  },
  {
   "cell_type": "code",
   "execution_count": 22,
   "id": "055ac05b-2a8a-4a2d-a775-f14df39835a0",
   "metadata": {},
   "outputs": [
    {
     "name": "stdout",
     "output_type": "stream",
     "text": [
      "[[0.51718789 0.51442818 0.46673997]\n",
      " [0.46673997 0.51718789 0.46673997]\n",
      " [0.51718789 0.51442818 0.46673997]\n",
      " ...\n",
      " [0.46673997 0.46673997 0.46673997]\n",
      " [0.51718789 0.51718789 0.46673997]\n",
      " [0.46673997 0.51442818 0.46673997]]\n",
      "[[0.55171024 0.55608927 0.49620483]\n",
      " [0.49620483 0.55171024 0.49620483]\n",
      " [0.55171024 0.55608927 0.49620483]\n",
      " ...\n",
      " [0.49620483 0.49620483 0.49620483]\n",
      " [0.55171024 0.55171024 0.49620483]\n",
      " [0.49620483 0.55608927 0.49620483]]\n"
     ]
    },
    {
     "data": {
      "text/plain": [
       "{1.03: 0.8065, 1.1: 0.6658999999999999}"
      ]
     },
     "execution_count": 22,
     "metadata": {},
     "output_type": "execute_result"
    }
   ],
   "source": [
    "estimate_second_type_error(df1,df2, 'metrica', [1.03, 1.1])"
   ]
  },
  {
   "cell_type": "code",
   "execution_count": 29,
   "id": "bc365f4a-ab59-4fa4-b85a-f6aec51e0c0d",
   "metadata": {},
   "outputs": [],
   "source": [
    "import numpy as np\n",
    "import pandas as pd\n",
    "\n",
    "\n",
    "def select_stratified_groups(data, strat_columns, group_size, weights=None, seed=None):\n",
    "    \"\"\"Подбирает стратифицированные группы для эксперимента.\n",
    "\n",
    "    data - pd.DataFrame, датафрейм с описанием объектов, содержит атрибуты для стратификации.\n",
    "    strat_columns - List[str], список названий столбцов, по которым нужно стратифицировать.\n",
    "    group_size - int, размеры групп.\n",
    "    weights - dict, словарь весов страт {strat: weight}, где strat - либо tuple значений элементов страт,\n",
    "        например, для strat_columns=['os', 'gender', 'birth_year'] будет ('ios', 'man', 1992), либо просто строка/число.\n",
    "        Если None, определить веса пропорционально доле страт в датафрейме data.\n",
    "    seed - int, исходное состояние генератора случайных чисел для воспроизводимости\n",
    "        результатов. Если None, то состояние генератора не устанавливается.\n",
    "\n",
    "    return (data_pilot, data_control) - два датафрейма того же формата, что и data\n",
    "        c пилотной и контрольной группами.\n",
    "    \"\"\"\n",
    "    # YOUR_CODE_HERE\n",
    "    np.random.seed(seed=seed)\n",
    "    if weights == None:\n",
    "        weights_df = data.groupby(strat_columns, as_index=False).size()\n",
    "        weights_df['weight'] = weights_df['size'] / weights_df['size'].sum()\n",
    "\n",
    "        weights = {}\n",
    "        for i in range(len(weights_df)):\n",
    "            curr_row = weights_df.iloc[i]\n",
    "            if len(strat_columns) > 1:\n",
    "                weights[tuple(curr_row[col] for col in strat_columns)] = curr_row.weight\n",
    "            else:\n",
    "                weights[curr_row[strat_columns[0]]] = curr_row.weight\n",
    "            \n",
    "    data_pilot = data.head(0)\n",
    "    data_control = data.head(0)\n",
    "\n",
    "    for cols, val in weights.items():\n",
    "        str_group_size = int(group_size * val + 0.5)\n",
    "        \n",
    "        data_curr = data   \n",
    "        if type(cols) == tuple:\n",
    "            for col_n, col_val in enumerate(cols):\n",
    "                data_curr = data_curr[data_curr[strat_columns[col_n]]==col_val]\n",
    "        else: \n",
    "            data_curr = data_curr[data_curr[strat_columns[0]]==cols]\n",
    "        \n",
    "        index = np.arange(0, len(data_curr))\n",
    "        rand_index = np.random.choice(index, size=2*str_group_size, replace=False)\n",
    "        pilot_rand_index = rand_index[:str_group_size]\n",
    "        control_rand_index = rand_index[str_group_size:]\n",
    "\n",
    "        data_pilot = pd.concat([data_pilot, data_curr.iloc[pilot_rand_index]])\n",
    "        data_control = pd.concat([data_control, data_curr.iloc[control_rand_index]])\n",
    "    return data_pilot, data_control\n",
    "    \n",
    "        \n",
    "        \n",
    "        "
   ]
  },
  {
   "cell_type": "code",
   "execution_count": 30,
   "id": "6d5ffe7d-5115-4e98-a521-09e7bffcbbe0",
   "metadata": {},
   "outputs": [
    {
     "data": {
      "text/plain": [
       "array([100])"
      ]
     },
     "execution_count": 30,
     "metadata": {},
     "output_type": "execute_result"
    }
   ],
   "source": [
    "np.random.default_rng().multinomial(100, [0.1])"
   ]
  },
  {
   "cell_type": "code",
   "execution_count": 31,
   "id": "e32fe422-f0e6-475f-a224-972d55f706cd",
   "metadata": {},
   "outputs": [
    {
     "ename": "NameError",
     "evalue": "name 'strata' is not defined",
     "output_type": "error",
     "traceback": [
      "\u001b[0;31m---------------------------------------------------------------------------\u001b[0m",
      "\u001b[0;31mNameError\u001b[0m                                 Traceback (most recent call last)",
      "Input \u001b[0;32mIn [31]\u001b[0m, in \u001b[0;36m<module>\u001b[0;34m\u001b[0m\n\u001b[0;32m----> 1\u001b[0m sample_sizes \u001b[38;5;241m=\u001b[39m np\u001b[38;5;241m.\u001b[39mzeros(shape\u001b[38;5;241m=\u001b[39m\u001b[38;5;28mlen\u001b[39m(\u001b[43mstrata\u001b[49m))\n",
      "\u001b[0;31mNameError\u001b[0m: name 'strata' is not defined"
     ]
    }
   ],
   "source": [
    "sample_sizes = np.zeros(shape=len(strata))"
   ]
  },
  {
   "cell_type": "code",
   "execution_count": 32,
   "id": "805a6d88-267d-44e6-91f9-ddd429de95b8",
   "metadata": {},
   "outputs": [
    {
     "ename": "NameError",
     "evalue": "name 'strata' is not defined",
     "output_type": "error",
     "traceback": [
      "\u001b[0;31m---------------------------------------------------------------------------\u001b[0m",
      "\u001b[0;31mNameError\u001b[0m                                 Traceback (most recent call last)",
      "Input \u001b[0;32mIn [32]\u001b[0m, in \u001b[0;36m<module>\u001b[0;34m\u001b[0m\n\u001b[0;32m----> 1\u001b[0m strata_sizes \u001b[38;5;241m=\u001b[39m [\u001b[38;5;28mlen\u001b[39m(stratum) \u001b[38;5;28;01mfor\u001b[39;00m stratum \u001b[38;5;129;01min\u001b[39;00m \u001b[43mstrata\u001b[49m]\n\u001b[1;32m      2\u001b[0m full_size \u001b[38;5;241m=\u001b[39m np\u001b[38;5;241m.\u001b[39msum(strata_sizes)\n\u001b[1;32m      3\u001b[0m weights \u001b[38;5;241m=\u001b[39m np\u001b[38;5;241m.\u001b[39marray(strata_sizes) \u001b[38;5;241m/\u001b[39m full_size\n",
      "\u001b[0;31mNameError\u001b[0m: name 'strata' is not defined"
     ]
    }
   ],
   "source": [
    "strata_sizes = [len(stratum) for stratum in strata]\n",
    "full_size = np.sum(strata_sizes)\n",
    "weights = np.array(strata_sizes) / full_size\n",
    "\n",
    "sample_sizes = np.zeros(shape=len(strata))"
   ]
  },
  {
   "cell_type": "code",
   "execution_count": 33,
   "id": "3daab073-2f16-402d-8e0b-8e2f4cbfc60a",
   "metadata": {},
   "outputs": [
    {
     "ename": "SyntaxError",
     "evalue": "invalid syntax (3621733661.py, line 1)",
     "output_type": "error",
     "traceback": [
      "\u001b[0;36m  Input \u001b[0;32mIn [33]\u001b[0;36m\u001b[0m\n\u001b[0;31m    На вход подаются:\u001b[0m\n\u001b[0m       ^\u001b[0m\n\u001b[0;31mSyntaxError\u001b[0m\u001b[0;31m:\u001b[0m invalid syntax\n"
     ]
    }
   ],
   "source": [
    "На вход подаются:\n",
    "\n",
    "Датафрейм с описанием объектов, которые нужно стратифицировать;\n",
    "Название параметров, по которым нужно стратифицировать:\n",
    "Размер групп;\n",
    "Словарь весов страт (если None, то веса нужно взять пропорционально доле страт в датафрейме);\n",
    "Состояние генератора случайных чисел.\n",
    "Функция должна возвращать пару датафреймов того же формата, что она получила на вход. \n",
    "Доли страт в каждом датафрейме должны в точности совпадать друг с другом и могут немного отличаться от переданных \n",
    "в функцию или посчитанных на основе входных данных, но не более чем на 2 / group_size \n",
    "(предполагается, что размеры страт достаточно велики, чтобы это всегда было реализуемо).\n",
    "\n",
    "При повторном вызове функции при seed=None полученные группы должны отличаться от вернувшихся \n",
    "при прошлом вызове функции (необходимо использовать рандомизацию)."
   ]
  },
  {
   "cell_type": "code",
   "execution_count": 34,
   "id": "698396f3-0c66-417c-a182-16033a008494",
   "metadata": {},
   "outputs": [],
   "source": [
    "import pandas as pd\n",
    "data = pd.DataFrame({#'metrica': [0.5, 0.45, 0.5,1,1,1,1,1,1],\n",
    "'feature1': [2, 2, 2,2,0,2,2,2,2] * 100 + [0,0],\n",
    "'feature2': [4, 5, 5,5,4,5,4,5,4] * 100 + [5,4]})"
   ]
  },
  {
   "cell_type": "code",
   "execution_count": 35,
   "id": "f7285883-e037-4b55-a79c-0ddc99adff7c",
   "metadata": {},
   "outputs": [],
   "source": [
    "data1, data2 = select_stratified_groups(data, strat_columns=['feature1'], group_size=100, weights=None, seed=None)"
   ]
  },
  {
   "cell_type": "code",
   "execution_count": 36,
   "id": "c003863c-d393-43c9-90a9-713e3a537a4d",
   "metadata": {},
   "outputs": [
    {
     "data": {
      "text/html": [
       "<div>\n",
       "<style scoped>\n",
       "    .dataframe tbody tr th:only-of-type {\n",
       "        vertical-align: middle;\n",
       "    }\n",
       "\n",
       "    .dataframe tbody tr th {\n",
       "        vertical-align: top;\n",
       "    }\n",
       "\n",
       "    .dataframe thead th {\n",
       "        text-align: right;\n",
       "    }\n",
       "</style>\n",
       "<table border=\"1\" class=\"dataframe\">\n",
       "  <thead>\n",
       "    <tr style=\"text-align: right;\">\n",
       "      <th></th>\n",
       "      <th>feature1</th>\n",
       "      <th>feature2</th>\n",
       "      <th>size</th>\n",
       "    </tr>\n",
       "  </thead>\n",
       "  <tbody>\n",
       "    <tr>\n",
       "      <th>0</th>\n",
       "      <td>0</td>\n",
       "      <td>4</td>\n",
       "      <td>11</td>\n",
       "    </tr>\n",
       "    <tr>\n",
       "      <th>1</th>\n",
       "      <td>2</td>\n",
       "      <td>4</td>\n",
       "      <td>33</td>\n",
       "    </tr>\n",
       "    <tr>\n",
       "      <th>2</th>\n",
       "      <td>2</td>\n",
       "      <td>5</td>\n",
       "      <td>56</td>\n",
       "    </tr>\n",
       "  </tbody>\n",
       "</table>\n",
       "</div>"
      ],
      "text/plain": [
       "   feature1  feature2  size\n",
       "0         0         4    11\n",
       "1         2         4    33\n",
       "2         2         5    56"
      ]
     },
     "execution_count": 36,
     "metadata": {},
     "output_type": "execute_result"
    }
   ],
   "source": [
    "data1.groupby(strat_columns, as_index=False).size()"
   ]
  },
  {
   "cell_type": "code",
   "execution_count": 12,
   "id": "d847e00f-2c07-436a-b25a-556127046441",
   "metadata": {},
   "outputs": [
    {
     "data": {
      "text/html": [
       "<div>\n",
       "<style scoped>\n",
       "    .dataframe tbody tr th:only-of-type {\n",
       "        vertical-align: middle;\n",
       "    }\n",
       "\n",
       "    .dataframe tbody tr th {\n",
       "        vertical-align: top;\n",
       "    }\n",
       "\n",
       "    .dataframe thead th {\n",
       "        text-align: right;\n",
       "    }\n",
       "</style>\n",
       "<table border=\"1\" class=\"dataframe\">\n",
       "  <thead>\n",
       "    <tr style=\"text-align: right;\">\n",
       "      <th></th>\n",
       "      <th>feature1</th>\n",
       "      <th>feature2</th>\n",
       "      <th>size</th>\n",
       "    </tr>\n",
       "  </thead>\n",
       "  <tbody>\n",
       "    <tr>\n",
       "      <th>0</th>\n",
       "      <td>0</td>\n",
       "      <td>4</td>\n",
       "      <td>11</td>\n",
       "    </tr>\n",
       "    <tr>\n",
       "      <th>1</th>\n",
       "      <td>2</td>\n",
       "      <td>4</td>\n",
       "      <td>33</td>\n",
       "    </tr>\n",
       "    <tr>\n",
       "      <th>2</th>\n",
       "      <td>2</td>\n",
       "      <td>5</td>\n",
       "      <td>55</td>\n",
       "    </tr>\n",
       "  </tbody>\n",
       "</table>\n",
       "</div>"
      ],
      "text/plain": [
       "   feature1  feature2  size\n",
       "0         0         4    11\n",
       "1         2         4    33\n",
       "2         2         5    55"
      ]
     },
     "execution_count": 12,
     "metadata": {},
     "output_type": "execute_result"
    }
   ],
   "source": [
    "data1.groupby(strat_columns, as_index=False).size()"
   ]
  },
  {
   "cell_type": "code",
   "execution_count": 9,
   "id": "d164b2e1-5177-4162-8ef1-2b21ef0c221e",
   "metadata": {},
   "outputs": [],
   "source": [
    "strat_columns = ['feature1', 'feature2']\n",
    "weights = None"
   ]
  },
  {
   "cell_type": "code",
   "execution_count": 13,
   "id": "b56d8fa8-91d2-458f-bb28-cfc770779dcc",
   "metadata": {},
   "outputs": [],
   "source": [
    "weights_df = data.groupby(strat_columns, as_index=False).size()\n",
    "\n",
    "weights_df['weight'] = weights_df['size'] / weights_df['size'].sum()\n",
    "\n",
    "#group_size = 100\n",
    "#weights['str_group_size'] = (group_size * weights['weight']).astype(int)\n",
    "\n",
    "#weights = weights.sort_values('str_group_size')"
   ]
  },
  {
   "cell_type": "code",
   "execution_count": 14,
   "id": "ee813581-67bf-4380-adb5-bbfacceca76f",
   "metadata": {},
   "outputs": [
    {
     "data": {
      "text/html": [
       "<div>\n",
       "<style scoped>\n",
       "    .dataframe tbody tr th:only-of-type {\n",
       "        vertical-align: middle;\n",
       "    }\n",
       "\n",
       "    .dataframe tbody tr th {\n",
       "        vertical-align: top;\n",
       "    }\n",
       "\n",
       "    .dataframe thead th {\n",
       "        text-align: right;\n",
       "    }\n",
       "</style>\n",
       "<table border=\"1\" class=\"dataframe\">\n",
       "  <thead>\n",
       "    <tr style=\"text-align: right;\">\n",
       "      <th></th>\n",
       "      <th>feature1</th>\n",
       "      <th>feature2</th>\n",
       "      <th>size</th>\n",
       "      <th>weight</th>\n",
       "    </tr>\n",
       "  </thead>\n",
       "  <tbody>\n",
       "    <tr>\n",
       "      <th>0</th>\n",
       "      <td>0</td>\n",
       "      <td>4</td>\n",
       "      <td>101</td>\n",
       "      <td>0.111973</td>\n",
       "    </tr>\n",
       "    <tr>\n",
       "      <th>1</th>\n",
       "      <td>0</td>\n",
       "      <td>5</td>\n",
       "      <td>1</td>\n",
       "      <td>0.001109</td>\n",
       "    </tr>\n",
       "    <tr>\n",
       "      <th>2</th>\n",
       "      <td>2</td>\n",
       "      <td>4</td>\n",
       "      <td>300</td>\n",
       "      <td>0.332594</td>\n",
       "    </tr>\n",
       "    <tr>\n",
       "      <th>3</th>\n",
       "      <td>2</td>\n",
       "      <td>5</td>\n",
       "      <td>500</td>\n",
       "      <td>0.554324</td>\n",
       "    </tr>\n",
       "  </tbody>\n",
       "</table>\n",
       "</div>"
      ],
      "text/plain": [
       "   feature1  feature2  size    weight\n",
       "0         0         4   101  0.111973\n",
       "1         0         5     1  0.001109\n",
       "2         2         4   300  0.332594\n",
       "3         2         5   500  0.554324"
      ]
     },
     "execution_count": 14,
     "metadata": {},
     "output_type": "execute_result"
    }
   ],
   "source": [
    "weights_df"
   ]
  },
  {
   "cell_type": "code",
   "execution_count": 114,
   "id": "c1dac0df-a4a4-4ec9-bb06-a500622a1d77",
   "metadata": {},
   "outputs": [],
   "source": [
    "weights = {}\n",
    "for i in range(len(weights_df)):\n",
    "    curr_row = weights_df.iloc[i]\n",
    "    weights[tuple(curr_row[col] for col in strat_columns)] = curr_row.weight"
   ]
  },
  {
   "cell_type": "code",
   "execution_count": 116,
   "id": "6b53fc45-8436-4f1c-898f-d4f277a59438",
   "metadata": {},
   "outputs": [
    {
     "data": {
      "text/plain": [
       "dict_items([((0.0, 5.0), 0.0011098779134295228), ((2.0, 4.0), 0.4439511653718091), ((2.0, 5.0), 0.5549389567147613)])"
      ]
     },
     "execution_count": 116,
     "metadata": {},
     "output_type": "execute_result"
    }
   ],
   "source": [
    "weights.items()"
   ]
  },
  {
   "cell_type": "code",
   "execution_count": 23,
   "id": "432cad93-9b33-485f-9851-e8f224222b55",
   "metadata": {},
   "outputs": [
    {
     "data": {
      "text/plain": [
       "0.3333333333333333"
      ]
     },
     "execution_count": 23,
     "metadata": {},
     "output_type": "execute_result"
    }
   ],
   "source": [
    "curr_row.weight"
   ]
  },
  {
   "cell_type": "code",
   "execution_count": 28,
   "id": "dda97307-8695-4bfe-8a8e-7e855e098161",
   "metadata": {},
   "outputs": [
    {
     "data": {
      "text/plain": [
       "(2.0, 4.0)"
      ]
     },
     "execution_count": 28,
     "metadata": {},
     "output_type": "execute_result"
    }
   ],
   "source": [
    "tuple(curr_row[col] for col in strat_columns)"
   ]
  },
  {
   "cell_type": "code",
   "execution_count": 112,
   "id": "09722579-49ad-4a8f-939f-3cfc43e97515",
   "metadata": {},
   "outputs": [],
   "source": [
    "if weights == None:\n",
    "    weights = data.groupby(strat_columns, as_index=False).size()\n",
    "\n",
    "    weights['weight'] = weights['size'] / weights['size'].sum()\n",
    "\n",
    "    group_size = 100\n",
    "    weights['str_group_size'] = (group_size * weights['weight']).astype(int)\n",
    "\n",
    "    weights = weights.sort_values('str_group_size')\n",
    "\n",
    "    data_pilot = data.head(0)\n",
    "    data_control = data.head(0)\n",
    "\n",
    "    for i in range(len(weights)):\n",
    "        str_size = weights['size'].iloc[i]\n",
    "        str_group_size = weights['str_group_size'].iloc[i]\n",
    "        index = np.arange(0, str_size)\n",
    "        rand_index = np.random.choice(index, size=2*str_group_size, replace=False)\n",
    "        pilot_rand_index = rand_index[:str_group_size]\n",
    "        control_rand_index = rand_index[str_group_size:]\n",
    "\n",
    "        str_data = data.merge(weights[strat_columns].iloc[[i]], on=strat_columns)\n",
    "        data_pilot = pd.concat([data_pilot, str_data.iloc[pilot_rand_index]])\n",
    "        data_control = pd.concat([data_control, str_data.iloc[control_rand_index]])\n",
    "    "
   ]
  },
  {
   "cell_type": "code",
   "execution_count": 115,
   "id": "9d7e9db4-38de-4563-98a5-5cb62b83aa5d",
   "metadata": {},
   "outputs": [
    {
     "data": {
      "text/html": [
       "<div>\n",
       "<style scoped>\n",
       "    .dataframe tbody tr th:only-of-type {\n",
       "        vertical-align: middle;\n",
       "    }\n",
       "\n",
       "    .dataframe tbody tr th {\n",
       "        vertical-align: top;\n",
       "    }\n",
       "\n",
       "    .dataframe thead th {\n",
       "        text-align: right;\n",
       "    }\n",
       "</style>\n",
       "<table border=\"1\" class=\"dataframe\">\n",
       "  <thead>\n",
       "    <tr style=\"text-align: right;\">\n",
       "      <th></th>\n",
       "      <th>feature1</th>\n",
       "      <th>feature2</th>\n",
       "      <th>size</th>\n",
       "      <th>weight</th>\n",
       "      <th>str_group_size</th>\n",
       "    </tr>\n",
       "  </thead>\n",
       "  <tbody>\n",
       "    <tr>\n",
       "      <th>2</th>\n",
       "      <td>3</td>\n",
       "      <td>4</td>\n",
       "      <td>100</td>\n",
       "      <td>0.111111</td>\n",
       "      <td>11</td>\n",
       "    </tr>\n",
       "    <tr>\n",
       "      <th>3</th>\n",
       "      <td>3</td>\n",
       "      <td>5</td>\n",
       "      <td>200</td>\n",
       "      <td>0.222222</td>\n",
       "      <td>22</td>\n",
       "    </tr>\n",
       "    <tr>\n",
       "      <th>0</th>\n",
       "      <td>2</td>\n",
       "      <td>4</td>\n",
       "      <td>300</td>\n",
       "      <td>0.333333</td>\n",
       "      <td>33</td>\n",
       "    </tr>\n",
       "    <tr>\n",
       "      <th>1</th>\n",
       "      <td>2</td>\n",
       "      <td>5</td>\n",
       "      <td>300</td>\n",
       "      <td>0.333333</td>\n",
       "      <td>33</td>\n",
       "    </tr>\n",
       "  </tbody>\n",
       "</table>\n",
       "</div>"
      ],
      "text/plain": [
       "   feature1  feature2  size    weight  str_group_size\n",
       "2         3         4   100  0.111111              11\n",
       "3         3         5   200  0.222222              22\n",
       "0         2         4   300  0.333333              33\n",
       "1         2         5   300  0.333333              33"
      ]
     },
     "execution_count": 115,
     "metadata": {},
     "output_type": "execute_result"
    }
   ],
   "source": [
    "def calc_strat_stats(\n",
    "    strata: list,\n",
    "    sample_size=100, n_iter=1000,\n",
    "    is_stratified=True\n",
    "):\n",
    "    \"\"\"Считаем дисперсию среднего значения при стратифицированном сэмплировании.\n",
    "    \n",
    "    strata - список страт\n",
    "    sample_size - размер сэмплируемой выборки\n",
    "    n_iter - кол-во итераций сэмплирования\n",
    "    is_stritified - флаг стратификационного семплирования (сохраняем ли мы пропорции страт)\n",
    "    \n",
    "    return: среднее средних, дисперсия средних\n",
    "    \"\"\"\n",
    "    \n",
    "    strata_sizes = [len(stratum) for stratum in strata]\n",
    "    full_size = np.sum(strata_sizes)\n",
    "    weights = np.array(strata_sizes) / full_size\n",
    "    \n",
    "    sample_sizes = np.zeros(shape=len(strata))\n",
    "    if is_stratified:\n",
    "        sample_sizes = (weights * sample_size + 0.5).astype(int)\n",
    "    else:\n",
    "        while (np.array(sample_sizes)).min() == 0:\n",
    "            sample_sizes = np.random.default_rng().multinomial(sample_size, weights)\n",
    "\n",
    "    assert sample_sizes.min() != 0\n",
    "    \n",
    "    means = []\n",
    "    for _ in range(n_iter):\n",
    "        strata_means = [get_sample_mean(stratum, size) for stratum, size in zip(strata, sample_sizes)]\n",
    "        means.append((weights * np.array(strata_means)).sum())\n",
    "    return np.mean(means), np.var(means)"
   ]
  },
  {
   "cell_type": "code",
   "execution_count": 113,
   "id": "75dafe26-2002-401a-93c7-a81e20c278ae",
   "metadata": {},
   "outputs": [
    {
     "data": {
      "text/html": [
       "<div>\n",
       "<style scoped>\n",
       "    .dataframe tbody tr th:only-of-type {\n",
       "        vertical-align: middle;\n",
       "    }\n",
       "\n",
       "    .dataframe tbody tr th {\n",
       "        vertical-align: top;\n",
       "    }\n",
       "\n",
       "    .dataframe thead th {\n",
       "        text-align: right;\n",
       "    }\n",
       "</style>\n",
       "<table border=\"1\" class=\"dataframe\">\n",
       "  <thead>\n",
       "    <tr style=\"text-align: right;\">\n",
       "      <th></th>\n",
       "      <th>feature1</th>\n",
       "      <th>feature2</th>\n",
       "    </tr>\n",
       "  </thead>\n",
       "  <tbody>\n",
       "    <tr>\n",
       "      <th>60</th>\n",
       "      <td>3</td>\n",
       "      <td>4</td>\n",
       "    </tr>\n",
       "    <tr>\n",
       "      <th>63</th>\n",
       "      <td>3</td>\n",
       "      <td>4</td>\n",
       "    </tr>\n",
       "    <tr>\n",
       "      <th>22</th>\n",
       "      <td>3</td>\n",
       "      <td>4</td>\n",
       "    </tr>\n",
       "    <tr>\n",
       "      <th>41</th>\n",
       "      <td>3</td>\n",
       "      <td>4</td>\n",
       "    </tr>\n",
       "    <tr>\n",
       "      <th>52</th>\n",
       "      <td>3</td>\n",
       "      <td>4</td>\n",
       "    </tr>\n",
       "    <tr>\n",
       "      <th>...</th>\n",
       "      <td>...</td>\n",
       "      <td>...</td>\n",
       "    </tr>\n",
       "    <tr>\n",
       "      <th>17</th>\n",
       "      <td>2</td>\n",
       "      <td>5</td>\n",
       "    </tr>\n",
       "    <tr>\n",
       "      <th>175</th>\n",
       "      <td>2</td>\n",
       "      <td>5</td>\n",
       "    </tr>\n",
       "    <tr>\n",
       "      <th>14</th>\n",
       "      <td>2</td>\n",
       "      <td>5</td>\n",
       "    </tr>\n",
       "    <tr>\n",
       "      <th>248</th>\n",
       "      <td>2</td>\n",
       "      <td>5</td>\n",
       "    </tr>\n",
       "    <tr>\n",
       "      <th>38</th>\n",
       "      <td>2</td>\n",
       "      <td>5</td>\n",
       "    </tr>\n",
       "  </tbody>\n",
       "</table>\n",
       "<p>99 rows × 2 columns</p>\n",
       "</div>"
      ],
      "text/plain": [
       "     feature1  feature2\n",
       "60          3         4\n",
       "63          3         4\n",
       "22          3         4\n",
       "41          3         4\n",
       "52          3         4\n",
       "..        ...       ...\n",
       "17          2         5\n",
       "175         2         5\n",
       "14          2         5\n",
       "248         2         5\n",
       "38          2         5\n",
       "\n",
       "[99 rows x 2 columns]"
      ]
     },
     "execution_count": 113,
     "metadata": {},
     "output_type": "execute_result"
    }
   ],
   "source": [
    "data_control"
   ]
  },
  {
   "cell_type": "code",
   "execution_count": 114,
   "id": "a5b8b208-20c1-498f-a3fe-0d1d9c7e66f7",
   "metadata": {},
   "outputs": [
    {
     "data": {
      "text/html": [
       "<div>\n",
       "<style scoped>\n",
       "    .dataframe tbody tr th:only-of-type {\n",
       "        vertical-align: middle;\n",
       "    }\n",
       "\n",
       "    .dataframe tbody tr th {\n",
       "        vertical-align: top;\n",
       "    }\n",
       "\n",
       "    .dataframe thead th {\n",
       "        text-align: right;\n",
       "    }\n",
       "</style>\n",
       "<table border=\"1\" class=\"dataframe\">\n",
       "  <thead>\n",
       "    <tr style=\"text-align: right;\">\n",
       "      <th></th>\n",
       "      <th>feature1</th>\n",
       "      <th>feature2</th>\n",
       "    </tr>\n",
       "  </thead>\n",
       "  <tbody>\n",
       "    <tr>\n",
       "      <th>49</th>\n",
       "      <td>3</td>\n",
       "      <td>4</td>\n",
       "    </tr>\n",
       "    <tr>\n",
       "      <th>38</th>\n",
       "      <td>3</td>\n",
       "      <td>4</td>\n",
       "    </tr>\n",
       "    <tr>\n",
       "      <th>0</th>\n",
       "      <td>3</td>\n",
       "      <td>4</td>\n",
       "    </tr>\n",
       "    <tr>\n",
       "      <th>57</th>\n",
       "      <td>3</td>\n",
       "      <td>4</td>\n",
       "    </tr>\n",
       "    <tr>\n",
       "      <th>20</th>\n",
       "      <td>3</td>\n",
       "      <td>4</td>\n",
       "    </tr>\n",
       "    <tr>\n",
       "      <th>...</th>\n",
       "      <td>...</td>\n",
       "      <td>...</td>\n",
       "    </tr>\n",
       "    <tr>\n",
       "      <th>276</th>\n",
       "      <td>2</td>\n",
       "      <td>5</td>\n",
       "    </tr>\n",
       "    <tr>\n",
       "      <th>297</th>\n",
       "      <td>2</td>\n",
       "      <td>5</td>\n",
       "    </tr>\n",
       "    <tr>\n",
       "      <th>289</th>\n",
       "      <td>2</td>\n",
       "      <td>5</td>\n",
       "    </tr>\n",
       "    <tr>\n",
       "      <th>184</th>\n",
       "      <td>2</td>\n",
       "      <td>5</td>\n",
       "    </tr>\n",
       "    <tr>\n",
       "      <th>167</th>\n",
       "      <td>2</td>\n",
       "      <td>5</td>\n",
       "    </tr>\n",
       "  </tbody>\n",
       "</table>\n",
       "<p>99 rows × 2 columns</p>\n",
       "</div>"
      ],
      "text/plain": [
       "     feature1  feature2\n",
       "49          3         4\n",
       "38          3         4\n",
       "0           3         4\n",
       "57          3         4\n",
       "20          3         4\n",
       "..        ...       ...\n",
       "276         2         5\n",
       "297         2         5\n",
       "289         2         5\n",
       "184         2         5\n",
       "167         2         5\n",
       "\n",
       "[99 rows x 2 columns]"
      ]
     },
     "execution_count": 114,
     "metadata": {},
     "output_type": "execute_result"
    }
   ],
   "source": [
    "data_pilot"
   ]
  },
  {
   "cell_type": "code",
   "execution_count": 75,
   "id": "1df4e085-b440-4a46-8f6f-d894a1479bf2",
   "metadata": {},
   "outputs": [
    {
     "data": {
      "text/plain": [
       "array([ 0, 10,  5, 16, 13, 21,  8, 22, 17,  8, 26, 20, 24,  3,  1,  8, 11,\n",
       "       20, 21,  4])"
      ]
     },
     "execution_count": 75,
     "metadata": {},
     "output_type": "execute_result"
    }
   ],
   "source": [
    "import numpy as np\n",
    "np.random.randint(low=0, high=30, size=2*10)"
   ]
  },
  {
   "cell_type": "code",
   "execution_count": null,
   "id": "8d795501-f769-44d3-a039-0b6f61b5b655",
   "metadata": {},
   "outputs": [],
   "source": [
    "numpy.random.choice(np"
   ]
  },
  {
   "cell_type": "code",
   "execution_count": 80,
   "id": "9bc19ab6-2021-4703-aa8f-f90366a2a454",
   "metadata": {},
   "outputs": [
    {
     "data": {
      "text/plain": [
       "array([ 70, 264, 248, 101, 294, 289,  62, 192, 292, 166,  19, 174,  93,\n",
       "       251,  52, 250, 267,   4, 143, 212, 211, 152,  91, 109,  68, 151,\n",
       "        41, 221, 235, 223, 219, 114,  79])"
      ]
     },
     "execution_count": 80,
     "metadata": {},
     "output_type": "execute_result"
    }
   ],
   "source": [
    "rand_index[:str_group_size]"
   ]
  },
  {
   "cell_type": "code",
   "execution_count": 81,
   "id": "6bca73f6-0431-4df5-bc69-a5119c16afb1",
   "metadata": {},
   "outputs": [
    {
     "data": {
      "text/plain": [
       "array([177, 135, 273, 183, 195,  83,   9,  90, 215,   6, 254, 120,  95,\n",
       "        39,  87, 231, 270,  47, 266, 100, 225, 112,  88, 234, 190, 255,\n",
       "       291,  63, 272, 198,  64,  65, 181])"
      ]
     },
     "execution_count": 81,
     "metadata": {},
     "output_type": "execute_result"
    }
   ],
   "source": [
    "rand_index[str_group_size:]"
   ]
  },
  {
   "cell_type": "code",
   "execution_count": 82,
   "id": "79f8a647-cd0c-4ae0-af3a-63e1c419d9fa",
   "metadata": {},
   "outputs": [
    {
     "data": {
      "text/html": [
       "<div>\n",
       "<style scoped>\n",
       "    .dataframe tbody tr th:only-of-type {\n",
       "        vertical-align: middle;\n",
       "    }\n",
       "\n",
       "    .dataframe tbody tr th {\n",
       "        vertical-align: top;\n",
       "    }\n",
       "\n",
       "    .dataframe thead th {\n",
       "        text-align: right;\n",
       "    }\n",
       "</style>\n",
       "<table border=\"1\" class=\"dataframe\">\n",
       "  <thead>\n",
       "    <tr style=\"text-align: right;\">\n",
       "      <th></th>\n",
       "      <th>feature1</th>\n",
       "      <th>feature2</th>\n",
       "      <th>size</th>\n",
       "      <th>weight</th>\n",
       "      <th>str_group_size</th>\n",
       "    </tr>\n",
       "  </thead>\n",
       "  <tbody>\n",
       "    <tr>\n",
       "      <th>2</th>\n",
       "      <td>3</td>\n",
       "      <td>4</td>\n",
       "      <td>100</td>\n",
       "      <td>0.111111</td>\n",
       "      <td>11</td>\n",
       "    </tr>\n",
       "    <tr>\n",
       "      <th>3</th>\n",
       "      <td>3</td>\n",
       "      <td>5</td>\n",
       "      <td>200</td>\n",
       "      <td>0.222222</td>\n",
       "      <td>22</td>\n",
       "    </tr>\n",
       "    <tr>\n",
       "      <th>0</th>\n",
       "      <td>2</td>\n",
       "      <td>4</td>\n",
       "      <td>300</td>\n",
       "      <td>0.333333</td>\n",
       "      <td>33</td>\n",
       "    </tr>\n",
       "    <tr>\n",
       "      <th>1</th>\n",
       "      <td>2</td>\n",
       "      <td>5</td>\n",
       "      <td>300</td>\n",
       "      <td>0.333333</td>\n",
       "      <td>33</td>\n",
       "    </tr>\n",
       "  </tbody>\n",
       "</table>\n",
       "</div>"
      ],
      "text/plain": [
       "   feature1  feature2  size    weight  str_group_size\n",
       "2         3         4   100  0.111111              11\n",
       "3         3         5   200  0.222222              22\n",
       "0         2         4   300  0.333333              33\n",
       "1         2         5   300  0.333333              33"
      ]
     },
     "execution_count": 82,
     "metadata": {},
     "output_type": "execute_result"
    }
   ],
   "source": [
    "weights"
   ]
  },
  {
   "cell_type": "markdown",
   "id": "54f71a3d-1ed7-4ba7-8c2b-bc365900f54e",
   "metadata": {},
   "source": [
    "\n",
    "Задача. Вычисление метрик для CUPED.\n",
    "Наша цель — научиться получать преобразованную с помощью CUPED метрику.\n",
    "\n",
    "Для этого нужно будет написать две функции.\n",
    "\n",
    "Первая функция вспомогательная, она будет вычислять значения целевой метрики для пользователей на произвольном промежутке времени. Первую функцию можно будет использовать, чтобы посчитать значения метрики пользователей во время пилота и до пилота.\n",
    "\n",
    "Вторая функция будет вычислять непосредственно преобразованную cuped-метрику. В качестве ковариаты будем использовать значение метрики, посчитанное на периоде до начала пилота.\n",
    "\n",
    "Целевая метрика — суммарная стоимость покупок пользователя за определённый период времени.\n",
    "\n"
   ]
  },
  {
   "cell_type": "code",
   "execution_count": 133,
   "id": "2770e567-13b6-41e9-b67d-6a4d1f76ed42",
   "metadata": {},
   "outputs": [],
   "source": [
    "import numpy as np\n",
    "import pandas as pd\n",
    "\n",
    "\n",
    "def calculate_metric(\n",
    "    df, value_name, user_id_name, list_user_id, date_name, period, metric_name\n",
    "):\n",
    "    \"\"\"Вычисляет значение метрики для списка пользователей в определённый период.\n",
    "    \n",
    "    df - pd.DataFrame, датафрейм с данными\n",
    "    value_name - str, название столбца со значениями для вычисления целевой метрики\n",
    "    user_id_name - str, название столбца с идентификаторами пользователей\n",
    "    list_user_id - List[int], список идентификаторов пользователей, для которых нужно посчитать метрики\n",
    "    date_name - str, название столбца с датами\n",
    "    period - dict, словарь с датами начала и конца периода, за который нужно посчитать метрики.\n",
    "        Пример, {'begin': '2020-01-01', 'end': '2020-01-08'}. Дата начала периода входит нужный\n",
    "        полуинтервал, а дата окончание нет, то есть '2020-01-01' <= date < '2020-01-08'.\n",
    "    metric_name - str, название полученной метрики\n",
    "\n",
    "    return - pd.DataFrame, со столбцами [user_id_name, metric_name], кол-во строк должно быть равно\n",
    "        кол-ву элементов в списке list_user_id.\n",
    "    \"\"\"\n",
    "    # YOUR_CODE_HERE\n",
    "    df_subsample = df[(df[user_id_name].isin(list_user_id))&\n",
    "                      (df[date_name]>=period['begin'])&\n",
    "                      (df[date_name]<period['end'])]\n",
    "    result = df_subsample.groupby(user_id_name, as_index=False)[value_name].agg(func='sum')\n",
    "    result = pd.DataFrame(list_user_id, columns=[user_id_name]).merge(result, on=user_id_name, how='left').fillna(0)\n",
    "    result.columns = [user_id_name, metric_name]\n",
    "    return result\n",
    "\n",
    "\n",
    "\n",
    "def calculate_metric_cuped(\n",
    "    df, value_name, user_id_name, list_user_id, date_name, periods, metric_name\n",
    "):\n",
    "    \"\"\"Вычисляет метрики во время пилота, коварианту и преобразованную метрику cuped.\n",
    "    \n",
    "    df - pd.DataFrame, датафрейм с данными\n",
    "    value_name - str, название столбца со значениями для вычисления целевой метрики\n",
    "    user_id_name - str, название столбца с идентификаторами пользователей\n",
    "    list_user_id - List[int], список идентификаторов пользователей, для которых нужно посчитать метрики\n",
    "    date_name - str, название столбца с датами\n",
    "    periods - dict, словарь с датами начала и конца периода пилота и препилота.\n",
    "        Пример, {\n",
    "            'prepilot': {'begin': '2020-01-01', 'end': '2020-01-08'},\n",
    "            'pilot': {'begin': '2020-01-08', 'end': '2020-01-15'}\n",
    "        }.\n",
    "        Дата начала периода входит в полуинтервал, а дата окончания нет,\n",
    "        то есть '2020-01-01' <= date < '2020-01-08'.\n",
    "    metric_name - str, название полученной метрики\n",
    "\n",
    "    return - pd.DataFrame, со столбцами\n",
    "        [user_id_name, metric_name, f'{metric_name}_prepilot', f'{metric_name}_cuped'],\n",
    "        кол-во строк должно быть равно кол-ву элементов в списке list_user_id.\n",
    "    \"\"\"\n",
    "    # YOUR_CODE_HERE\n",
    "    \n",
    "    \n",
    "    prepilot = calculate_metric(df, value_name, user_id_name, list_user_id, date_name, periods['prepilot'], metric_name)\n",
    "    pilot = calculate_metric(df, value_name, user_id_name, list_user_id, date_name, periods['pilot'], metric_name)\n",
    "    prepilot.columns = [user_id_name, f'{metric_name}_prepilot']\n",
    "    \n",
    "    result = pilot.merge(prepilot, on=user_id_name, how='inner')\n",
    "    \n",
    "    covariance = np.cov(result[f'{metric_name}_prepilot'], result[metric_name])[0, 1]\n",
    "    variance = np.var(result[f'{metric_name}_prepilot'])\n",
    "    theta = covariance / variance\n",
    "    \n",
    "    result[f'{metric_name}_cuped'] = result[metric_name] - theta * result[f'{metric_name}_prepilot']\n",
    "    \n",
    "    return result"
   ]
  },
  {
   "cell_type": "code",
   "execution_count": 134,
   "id": "0f9e82f2-81f1-4801-bf02-a375f5f8643d",
   "metadata": {},
   "outputs": [
    {
     "data": {
      "text/plain": [
       "DatetimeIndex(['2020-01-01', '2020-01-02', '2020-01-03', '2020-01-04',\n",
       "               '2020-01-05', '2020-01-06', '2020-01-07', '2020-01-08',\n",
       "               '2020-01-09', '2020-01-10',\n",
       "               ...\n",
       "               '2022-09-17', '2022-09-18', '2022-09-19', '2022-09-20',\n",
       "               '2022-09-21', '2022-09-22', '2022-09-23', '2022-09-24',\n",
       "               '2022-09-25', '2022-09-26'],\n",
       "              dtype='datetime64[ns]', length=1000, freq='D')"
      ]
     },
     "execution_count": 134,
     "metadata": {},
     "output_type": "execute_result"
    }
   ],
   "source": [
    "pd.date_range('2020-01-01', periods=1000, freq='D')"
   ]
  },
  {
   "cell_type": "code",
   "execution_count": 135,
   "id": "036899af-dd80-47fa-9628-ede6509f5697",
   "metadata": {},
   "outputs": [
    {
     "data": {
      "text/plain": [
       "0     2020-01-01\n",
       "1     2020-01-02\n",
       "2     2020-01-03\n",
       "3     2020-01-04\n",
       "4     2020-01-05\n",
       "         ...    \n",
       "995   2022-09-22\n",
       "996   2022-09-23\n",
       "997   2022-09-24\n",
       "998   2022-09-25\n",
       "999   2022-09-26\n",
       "Length: 4000, dtype: datetime64[ns]"
      ]
     },
     "execution_count": 135,
     "metadata": {},
     "output_type": "execute_result"
    }
   ],
   "source": [
    "pd.concat([pd.Series(pd.date_range('2020-01-01', periods=1000, freq='D')), \n",
    "           pd.Series(pd.date_range('2020-01-01', periods=1000, freq='D')), \n",
    "           pd.Series(pd.date_range('2020-01-01', periods=1000, freq='D')), \n",
    "           pd.Series(pd.date_range('2020-01-01', periods=1000, freq='D'))\n",
    "          ])"
   ]
  },
  {
   "cell_type": "code",
   "execution_count": 136,
   "id": "07aeac3c-22fa-4530-9895-a773903c543a",
   "metadata": {},
   "outputs": [
    {
     "data": {
      "text/html": [
       "<div>\n",
       "<style scoped>\n",
       "    .dataframe tbody tr th:only-of-type {\n",
       "        vertical-align: middle;\n",
       "    }\n",
       "\n",
       "    .dataframe tbody tr th {\n",
       "        vertical-align: top;\n",
       "    }\n",
       "\n",
       "    .dataframe thead th {\n",
       "        text-align: right;\n",
       "    }\n",
       "</style>\n",
       "<table border=\"1\" class=\"dataframe\">\n",
       "  <thead>\n",
       "    <tr style=\"text-align: right;\">\n",
       "      <th></th>\n",
       "      <th>user_id_name</th>\n",
       "      <th>sum_values</th>\n",
       "    </tr>\n",
       "  </thead>\n",
       "  <tbody>\n",
       "    <tr>\n",
       "      <th>0</th>\n",
       "      <td>36</td>\n",
       "      <td>1627.0</td>\n",
       "    </tr>\n",
       "    <tr>\n",
       "      <th>1</th>\n",
       "      <td>616</td>\n",
       "      <td>0.0</td>\n",
       "    </tr>\n",
       "    <tr>\n",
       "      <th>2</th>\n",
       "      <td>1169</td>\n",
       "      <td>0.0</td>\n",
       "    </tr>\n",
       "    <tr>\n",
       "      <th>3</th>\n",
       "      <td>558</td>\n",
       "      <td>0.0</td>\n",
       "    </tr>\n",
       "    <tr>\n",
       "      <th>4</th>\n",
       "      <td>1100</td>\n",
       "      <td>0.0</td>\n",
       "    </tr>\n",
       "    <tr>\n",
       "      <th>...</th>\n",
       "      <td>...</td>\n",
       "      <td>...</td>\n",
       "    </tr>\n",
       "    <tr>\n",
       "      <th>495</th>\n",
       "      <td>344</td>\n",
       "      <td>1377.0</td>\n",
       "    </tr>\n",
       "    <tr>\n",
       "      <th>496</th>\n",
       "      <td>780</td>\n",
       "      <td>0.0</td>\n",
       "    </tr>\n",
       "    <tr>\n",
       "      <th>497</th>\n",
       "      <td>360</td>\n",
       "      <td>3633.0</td>\n",
       "    </tr>\n",
       "    <tr>\n",
       "      <th>498</th>\n",
       "      <td>910</td>\n",
       "      <td>11.0</td>\n",
       "    </tr>\n",
       "    <tr>\n",
       "      <th>499</th>\n",
       "      <td>555</td>\n",
       "      <td>2672.0</td>\n",
       "    </tr>\n",
       "  </tbody>\n",
       "</table>\n",
       "<p>500 rows × 2 columns</p>\n",
       "</div>"
      ],
      "text/plain": [
       "     user_id_name  sum_values\n",
       "0              36      1627.0\n",
       "1             616         0.0\n",
       "2            1169         0.0\n",
       "3             558         0.0\n",
       "4            1100         0.0\n",
       "..            ...         ...\n",
       "495           344      1377.0\n",
       "496           780         0.0\n",
       "497           360      3633.0\n",
       "498           910        11.0\n",
       "499           555      2672.0\n",
       "\n",
       "[500 rows x 2 columns]"
      ]
     },
     "execution_count": 136,
     "metadata": {},
     "output_type": "execute_result"
    }
   ],
   "source": [
    "a = np.random.randint(1, 1000, 2000)\n",
    "b = np.random.randint(1, 1000, 2000)\n",
    "\n",
    "\n",
    "df = pd.DataFrame({\n",
    "    'value_name': np.hstack((a + 5, a)),\n",
    "    'user_id_name': np.hstack((b, b)),\n",
    "    'date_name': pd.concat([pd.Series(pd.date_range('2020-01-01', periods=1000, freq='D')), \n",
    "           pd.Series(pd.date_range('2020-01-01', periods=1000, freq='D')), \n",
    "           pd.Series(pd.date_range('2020-01-01', periods=1000, freq='D')), \n",
    "           pd.Series(pd.date_range('2020-01-01', periods=1000, freq='D'))\n",
    "          ]),\n",
    "})\n",
    "\n",
    "list_user_id = np.random.choice(np.arange(1, 1200), size=500, replace=False)\n",
    "period = {'begin': '2020-01-01', 'end': '2022-06-03'}\n",
    "\n",
    "\n",
    "calculate_metric(df=df, \n",
    "                 value_name='value_name', \n",
    "                 user_id_name='user_id_name', \n",
    "                 list_user_id=list_user_id, \n",
    "                 date_name='date_name', \n",
    "                 period=period, \n",
    "                 metric_name='sum_values')"
   ]
  },
  {
   "cell_type": "code",
   "execution_count": 137,
   "id": "4974a71e-0fcb-4a32-a5a8-066dcdfde804",
   "metadata": {},
   "outputs": [
    {
     "data": {
      "text/html": [
       "<div>\n",
       "<style scoped>\n",
       "    .dataframe tbody tr th:only-of-type {\n",
       "        vertical-align: middle;\n",
       "    }\n",
       "\n",
       "    .dataframe tbody tr th {\n",
       "        vertical-align: top;\n",
       "    }\n",
       "\n",
       "    .dataframe thead th {\n",
       "        text-align: right;\n",
       "    }\n",
       "</style>\n",
       "<table border=\"1\" class=\"dataframe\">\n",
       "  <thead>\n",
       "    <tr style=\"text-align: right;\">\n",
       "      <th></th>\n",
       "      <th>value_name</th>\n",
       "      <th>user_id_name</th>\n",
       "      <th>date_name</th>\n",
       "    </tr>\n",
       "  </thead>\n",
       "  <tbody>\n",
       "    <tr>\n",
       "      <th>0</th>\n",
       "      <td>270</td>\n",
       "      <td>661</td>\n",
       "      <td>2020-01-01</td>\n",
       "    </tr>\n",
       "    <tr>\n",
       "      <th>1</th>\n",
       "      <td>862</td>\n",
       "      <td>367</td>\n",
       "      <td>2020-01-02</td>\n",
       "    </tr>\n",
       "    <tr>\n",
       "      <th>2</th>\n",
       "      <td>568</td>\n",
       "      <td>202</td>\n",
       "      <td>2020-01-03</td>\n",
       "    </tr>\n",
       "    <tr>\n",
       "      <th>3</th>\n",
       "      <td>794</td>\n",
       "      <td>696</td>\n",
       "      <td>2020-01-04</td>\n",
       "    </tr>\n",
       "    <tr>\n",
       "      <th>4</th>\n",
       "      <td>464</td>\n",
       "      <td>794</td>\n",
       "      <td>2020-01-05</td>\n",
       "    </tr>\n",
       "    <tr>\n",
       "      <th>...</th>\n",
       "      <td>...</td>\n",
       "      <td>...</td>\n",
       "      <td>...</td>\n",
       "    </tr>\n",
       "    <tr>\n",
       "      <th>995</th>\n",
       "      <td>986</td>\n",
       "      <td>390</td>\n",
       "      <td>2022-09-22</td>\n",
       "    </tr>\n",
       "    <tr>\n",
       "      <th>996</th>\n",
       "      <td>915</td>\n",
       "      <td>797</td>\n",
       "      <td>2022-09-23</td>\n",
       "    </tr>\n",
       "    <tr>\n",
       "      <th>997</th>\n",
       "      <td>400</td>\n",
       "      <td>930</td>\n",
       "      <td>2022-09-24</td>\n",
       "    </tr>\n",
       "    <tr>\n",
       "      <th>998</th>\n",
       "      <td>734</td>\n",
       "      <td>357</td>\n",
       "      <td>2022-09-25</td>\n",
       "    </tr>\n",
       "    <tr>\n",
       "      <th>999</th>\n",
       "      <td>322</td>\n",
       "      <td>417</td>\n",
       "      <td>2022-09-26</td>\n",
       "    </tr>\n",
       "  </tbody>\n",
       "</table>\n",
       "<p>4000 rows × 3 columns</p>\n",
       "</div>"
      ],
      "text/plain": [
       "     value_name  user_id_name  date_name\n",
       "0           270           661 2020-01-01\n",
       "1           862           367 2020-01-02\n",
       "2           568           202 2020-01-03\n",
       "3           794           696 2020-01-04\n",
       "4           464           794 2020-01-05\n",
       "..          ...           ...        ...\n",
       "995         986           390 2022-09-22\n",
       "996         915           797 2022-09-23\n",
       "997         400           930 2022-09-24\n",
       "998         734           357 2022-09-25\n",
       "999         322           417 2022-09-26\n",
       "\n",
       "[4000 rows x 3 columns]"
      ]
     },
     "execution_count": 137,
     "metadata": {},
     "output_type": "execute_result"
    }
   ],
   "source": [
    "df"
   ]
  },
  {
   "cell_type": "code",
   "execution_count": 138,
   "id": "aa8bca14-6f57-4782-abe7-c66910624f64",
   "metadata": {},
   "outputs": [
    {
     "data": {
      "text/html": [
       "<div>\n",
       "<style scoped>\n",
       "    .dataframe tbody tr th:only-of-type {\n",
       "        vertical-align: middle;\n",
       "    }\n",
       "\n",
       "    .dataframe tbody tr th {\n",
       "        vertical-align: top;\n",
       "    }\n",
       "\n",
       "    .dataframe thead th {\n",
       "        text-align: right;\n",
       "    }\n",
       "</style>\n",
       "<table border=\"1\" class=\"dataframe\">\n",
       "  <thead>\n",
       "    <tr style=\"text-align: right;\">\n",
       "      <th></th>\n",
       "      <th>user_id_name</th>\n",
       "      <th>sum_values</th>\n",
       "      <th>sum_values_prepilot</th>\n",
       "      <th>sum_values_cuped</th>\n",
       "    </tr>\n",
       "  </thead>\n",
       "  <tbody>\n",
       "    <tr>\n",
       "      <th>0</th>\n",
       "      <td>36</td>\n",
       "      <td>57.0</td>\n",
       "      <td>1307.0</td>\n",
       "      <td>-6.023969</td>\n",
       "    </tr>\n",
       "    <tr>\n",
       "      <th>1</th>\n",
       "      <td>616</td>\n",
       "      <td>0.0</td>\n",
       "      <td>0.0</td>\n",
       "      <td>0.000000</td>\n",
       "    </tr>\n",
       "    <tr>\n",
       "      <th>2</th>\n",
       "      <td>1169</td>\n",
       "      <td>0.0</td>\n",
       "      <td>0.0</td>\n",
       "      <td>0.000000</td>\n",
       "    </tr>\n",
       "    <tr>\n",
       "      <th>3</th>\n",
       "      <td>558</td>\n",
       "      <td>0.0</td>\n",
       "      <td>0.0</td>\n",
       "      <td>0.000000</td>\n",
       "    </tr>\n",
       "    <tr>\n",
       "      <th>4</th>\n",
       "      <td>1100</td>\n",
       "      <td>0.0</td>\n",
       "      <td>0.0</td>\n",
       "      <td>0.000000</td>\n",
       "    </tr>\n",
       "    <tr>\n",
       "      <th>...</th>\n",
       "      <td>...</td>\n",
       "      <td>...</td>\n",
       "      <td>...</td>\n",
       "      <td>...</td>\n",
       "    </tr>\n",
       "    <tr>\n",
       "      <th>495</th>\n",
       "      <td>344</td>\n",
       "      <td>0.0</td>\n",
       "      <td>1377.0</td>\n",
       "      <td>-66.399392</td>\n",
       "    </tr>\n",
       "    <tr>\n",
       "      <th>496</th>\n",
       "      <td>780</td>\n",
       "      <td>0.0</td>\n",
       "      <td>0.0</td>\n",
       "      <td>0.000000</td>\n",
       "    </tr>\n",
       "    <tr>\n",
       "      <th>497</th>\n",
       "      <td>360</td>\n",
       "      <td>0.0</td>\n",
       "      <td>1439.0</td>\n",
       "      <td>-69.389052</td>\n",
       "    </tr>\n",
       "    <tr>\n",
       "      <th>498</th>\n",
       "      <td>910</td>\n",
       "      <td>11.0</td>\n",
       "      <td>0.0</td>\n",
       "      <td>11.000000</td>\n",
       "    </tr>\n",
       "    <tr>\n",
       "      <th>499</th>\n",
       "      <td>555</td>\n",
       "      <td>1585.0</td>\n",
       "      <td>0.0</td>\n",
       "      <td>1585.000000</td>\n",
       "    </tr>\n",
       "  </tbody>\n",
       "</table>\n",
       "<p>500 rows × 4 columns</p>\n",
       "</div>"
      ],
      "text/plain": [
       "     user_id_name  sum_values  sum_values_prepilot  sum_values_cuped\n",
       "0              36        57.0               1307.0         -6.023969\n",
       "1             616         0.0                  0.0          0.000000\n",
       "2            1169         0.0                  0.0          0.000000\n",
       "3             558         0.0                  0.0          0.000000\n",
       "4            1100         0.0                  0.0          0.000000\n",
       "..            ...         ...                  ...               ...\n",
       "495           344         0.0               1377.0        -66.399392\n",
       "496           780         0.0                  0.0          0.000000\n",
       "497           360         0.0               1439.0        -69.389052\n",
       "498           910        11.0                  0.0         11.000000\n",
       "499           555      1585.0                  0.0       1585.000000\n",
       "\n",
       "[500 rows x 4 columns]"
      ]
     },
     "execution_count": 138,
     "metadata": {},
     "output_type": "execute_result"
    }
   ],
   "source": [
    "period = {\n",
    "            'prepilot': {'begin': '2020-01-01', 'end': '2020-07-01'},\n",
    "            'pilot': {'begin': '2020-07-01', 'end': '2021-01-01'}\n",
    "            #'pilot': {'begin': '2020-01-01', 'end': '2020-08-08'}\n",
    "        }\n",
    "\n",
    "\n",
    "calculate_metric_cuped(df=df, \n",
    "                 value_name='value_name', \n",
    "                 user_id_name='user_id_name', \n",
    "                 list_user_id=list_user_id, \n",
    "                 date_name='date_name', \n",
    "                 periods=period, \n",
    "                 metric_name='sum_values').reset_index(drop=True) "
   ]
  },
  {
   "cell_type": "code",
   "execution_count": 113,
   "id": "44aacf1a-1b96-498e-af08-be331d495d97",
   "metadata": {},
   "outputs": [],
   "source": [
    "prepilot = calculate_metric(df=df, \n",
    "                 value_name='value_name', \n",
    "                 user_id_name='user_id_name', \n",
    "                 list_user_id=list_user_id, \n",
    "                 date_name='date_name', \n",
    "                 period=period['prepilot'], \n",
    "                 metric_name='sum_values')\n",
    "pilot = calculate_metric(df=df, \n",
    "                 value_name='value_name', \n",
    "                 user_id_name='user_id_name', \n",
    "                 list_user_id=list_user_id, \n",
    "                 date_name='date_name', \n",
    "                 period=period['pilot'], \n",
    "                 metric_name='sum_values')\n",
    "\n",
    "metric_name='sum_values'\n",
    "user_id_name='user_id_name'\n",
    "covariance = np.cov(prepilot[metric_name], pilot[metric_name])[0, 1]\n",
    "variance = prepilot[metric_name].var()\n",
    "theta = covariance / variance\n",
    "\n",
    "result = pd.DataFrame(list_user_id, columns=[user_id_name]).merge(pilot, on=user_id_name, how='left').merge(prepilot, on=user_id_name, how='left')\n"
   ]
  },
  {
   "cell_type": "code",
   "execution_count": 79,
   "id": "eca3c0e6-33a0-442c-ac1d-211d2a4c5d9e",
   "metadata": {},
   "outputs": [
    {
     "data": {
      "text/html": [
       "<div>\n",
       "<style scoped>\n",
       "    .dataframe tbody tr th:only-of-type {\n",
       "        vertical-align: middle;\n",
       "    }\n",
       "\n",
       "    .dataframe tbody tr th {\n",
       "        vertical-align: top;\n",
       "    }\n",
       "\n",
       "    .dataframe thead th {\n",
       "        text-align: right;\n",
       "    }\n",
       "</style>\n",
       "<table border=\"1\" class=\"dataframe\">\n",
       "  <thead>\n",
       "    <tr style=\"text-align: right;\">\n",
       "      <th></th>\n",
       "      <th>user_id_name</th>\n",
       "      <th>sum_values_x</th>\n",
       "      <th>sum_values_y</th>\n",
       "    </tr>\n",
       "  </thead>\n",
       "  <tbody>\n",
       "    <tr>\n",
       "      <th>0</th>\n",
       "      <td>10</td>\n",
       "      <td>222.0</td>\n",
       "      <td>0.0</td>\n",
       "    </tr>\n",
       "    <tr>\n",
       "      <th>1</th>\n",
       "      <td>309</td>\n",
       "      <td>0.0</td>\n",
       "      <td>0.0</td>\n",
       "    </tr>\n",
       "    <tr>\n",
       "      <th>2</th>\n",
       "      <td>64</td>\n",
       "      <td>134.0</td>\n",
       "      <td>0.0</td>\n",
       "    </tr>\n",
       "    <tr>\n",
       "      <th>3</th>\n",
       "      <td>530</td>\n",
       "      <td>0.0</td>\n",
       "      <td>0.0</td>\n",
       "    </tr>\n",
       "    <tr>\n",
       "      <th>4</th>\n",
       "      <td>156</td>\n",
       "      <td>0.0</td>\n",
       "      <td>0.0</td>\n",
       "    </tr>\n",
       "    <tr>\n",
       "      <th>5</th>\n",
       "      <td>217</td>\n",
       "      <td>0.0</td>\n",
       "      <td>0.0</td>\n",
       "    </tr>\n",
       "    <tr>\n",
       "      <th>6</th>\n",
       "      <td>225</td>\n",
       "      <td>0.0</td>\n",
       "      <td>0.0</td>\n",
       "    </tr>\n",
       "    <tr>\n",
       "      <th>7</th>\n",
       "      <td>85</td>\n",
       "      <td>250.0</td>\n",
       "      <td>0.0</td>\n",
       "    </tr>\n",
       "    <tr>\n",
       "      <th>8</th>\n",
       "      <td>769</td>\n",
       "      <td>0.0</td>\n",
       "      <td>0.0</td>\n",
       "    </tr>\n",
       "    <tr>\n",
       "      <th>9</th>\n",
       "      <td>274</td>\n",
       "      <td>454.0</td>\n",
       "      <td>0.0</td>\n",
       "    </tr>\n",
       "  </tbody>\n",
       "</table>\n",
       "</div>"
      ],
      "text/plain": [
       "   user_id_name  sum_values_x  sum_values_y\n",
       "0            10         222.0           0.0\n",
       "1           309           0.0           0.0\n",
       "2            64         134.0           0.0\n",
       "3           530           0.0           0.0\n",
       "4           156           0.0           0.0\n",
       "5           217           0.0           0.0\n",
       "6           225           0.0           0.0\n",
       "7            85         250.0           0.0\n",
       "8           769           0.0           0.0\n",
       "9           274         454.0           0.0"
      ]
     },
     "execution_count": 79,
     "metadata": {},
     "output_type": "execute_result"
    }
   ],
   "source": [
    "result"
   ]
  },
  {
   "cell_type": "code",
   "execution_count": 75,
   "id": "2e8e0fc0-1252-4753-ad2c-7d84a49e904c",
   "metadata": {},
   "outputs": [
    {
     "data": {
      "text/plain": [
       "0    0.0\n",
       "1    0.0\n",
       "2    0.0\n",
       "3    0.0\n",
       "4    0.0\n",
       "5    0.0\n",
       "6    0.0\n",
       "7    0.0\n",
       "8    0.0\n",
       "9    0.0\n",
       "Name: sum_values, dtype: float64"
      ]
     },
     "execution_count": 75,
     "metadata": {},
     "output_type": "execute_result"
    }
   ],
   "source": [
    "prepilot[metric_name]"
   ]
  },
  {
   "cell_type": "code",
   "execution_count": 76,
   "id": "ecf26706-9f5a-4383-9e4a-36729540c365",
   "metadata": {},
   "outputs": [
    {
     "ename": "SyntaxError",
     "evalue": "invalid syntax (4113088055.py, line 1)",
     "output_type": "error",
     "traceback": [
      "\u001b[0;36m  Input \u001b[0;32mIn [76]\u001b[0;36m\u001b[0m\n\u001b[0;31m    pilot[]\u001b[0m\n\u001b[0m          ^\u001b[0m\n\u001b[0;31mSyntaxError\u001b[0m\u001b[0;31m:\u001b[0m invalid syntax\n"
     ]
    }
   ],
   "source": [
    "pilot[]"
   ]
  },
  {
   "cell_type": "code",
   "execution_count": 29,
   "id": "094f7178-b92f-47fb-80d0-631a17dd8fc4",
   "metadata": {},
   "outputs": [
    {
     "data": {
      "text/plain": [
       "1.0000000000000004"
      ]
     },
     "execution_count": 29,
     "metadata": {},
     "output_type": "execute_result"
    }
   ],
   "source": [
    "theta"
   ]
  },
  {
   "cell_type": "code",
   "execution_count": 34,
   "id": "33ed29a4-5348-4e50-b9fe-7e9be3bc96aa",
   "metadata": {},
   "outputs": [
    {
     "data": {
      "text/html": [
       "<div>\n",
       "<style scoped>\n",
       "    .dataframe tbody tr th:only-of-type {\n",
       "        vertical-align: middle;\n",
       "    }\n",
       "\n",
       "    .dataframe tbody tr th {\n",
       "        vertical-align: top;\n",
       "    }\n",
       "\n",
       "    .dataframe thead th {\n",
       "        text-align: right;\n",
       "    }\n",
       "</style>\n",
       "<table border=\"1\" class=\"dataframe\">\n",
       "  <thead>\n",
       "    <tr style=\"text-align: right;\">\n",
       "      <th></th>\n",
       "      <th>f</th>\n",
       "    </tr>\n",
       "  </thead>\n",
       "  <tbody>\n",
       "    <tr>\n",
       "      <th>0</th>\n",
       "      <td>124</td>\n",
       "    </tr>\n",
       "    <tr>\n",
       "      <th>1</th>\n",
       "      <td>170</td>\n",
       "    </tr>\n",
       "    <tr>\n",
       "      <th>2</th>\n",
       "      <td>573</td>\n",
       "    </tr>\n",
       "    <tr>\n",
       "      <th>3</th>\n",
       "      <td>941</td>\n",
       "    </tr>\n",
       "    <tr>\n",
       "      <th>4</th>\n",
       "      <td>538</td>\n",
       "    </tr>\n",
       "    <tr>\n",
       "      <th>5</th>\n",
       "      <td>156</td>\n",
       "    </tr>\n",
       "    <tr>\n",
       "      <th>6</th>\n",
       "      <td>679</td>\n",
       "    </tr>\n",
       "    <tr>\n",
       "      <th>7</th>\n",
       "      <td>736</td>\n",
       "    </tr>\n",
       "    <tr>\n",
       "      <th>8</th>\n",
       "      <td>217</td>\n",
       "    </tr>\n",
       "    <tr>\n",
       "      <th>9</th>\n",
       "      <td>662</td>\n",
       "    </tr>\n",
       "  </tbody>\n",
       "</table>\n",
       "</div>"
      ],
      "text/plain": [
       "     f\n",
       "0  124\n",
       "1  170\n",
       "2  573\n",
       "3  941\n",
       "4  538\n",
       "5  156\n",
       "6  679\n",
       "7  736\n",
       "8  217\n",
       "9  662"
      ]
     },
     "execution_count": 34,
     "metadata": {},
     "output_type": "execute_result"
    }
   ],
   "source": [
    "pd.DataFrame(list_user_id, columns=['f'])"
   ]
  },
  {
   "cell_type": "code",
   "execution_count": null,
   "id": "350f4436-c6d8-4700-b0e8-1e3ba1cea33c",
   "metadata": {},
   "outputs": [],
   "source": []
  }
 ],
 "metadata": {
  "kernelspec": {
   "display_name": "Python 3 (ipykernel)",
   "language": "python",
   "name": "python3"
  },
  "language_info": {
   "codemirror_mode": {
    "name": "ipython",
    "version": 3
   },
   "file_extension": ".py",
   "mimetype": "text/x-python",
   "name": "python",
   "nbconvert_exporter": "python",
   "pygments_lexer": "ipython3",
   "version": "3.8.10"
  }
 },
 "nbformat": 4,
 "nbformat_minor": 5
}
